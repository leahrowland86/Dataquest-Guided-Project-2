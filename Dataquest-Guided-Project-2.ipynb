{
 "cells": [
  {
   "cell_type": "markdown",
   "metadata": {
    "collapsed": true
   },
   "source": [
    "# Exploring Hackers News Posts"
   ]
  },
  {
   "cell_type": "markdown",
   "metadata": {},
   "source": [
    "In this project I am comparing two different types of posts from [Hacker News](https://www.kaggle.com/hacker-news/hacker-news-posts), a popular site where technology related posts are voted and commented upon. The two types of posts I'll begin exploring are either Ask HN or Show HN posts.\n",
    "\n",
    "Users submit Ask HN posts to ask the Hacker News community a specific question. Likewise, users submit Show HN posts to show the Hacker News community a project, product, or just generally something interesting.\n",
    "\n",
    "The third type of posts on Hacker News are simply called \"other\" posts for the sake of this data analysis, and will also be used to compared to the Ask HN and Show HN posts. \n",
    "\n",
    "I am specifically comparing these types of posts to determine the following:\n",
    "\n",
    "* Do Ask HN or Show HN receive more comments on average?\n",
    "* Do posts created at a certain time receive more comments on average?\n",
    "* Do Ask HN or Show HN receive more points on average?\n",
    "* Do posts created at a certain time receive more points on average?\n",
    "* How do other posts comments on average compare?\n",
    "* How do other posts points on average compare?\n",
    "\n",
    "It should be noted that the data set I am working with was reduced from almost 300,000 rows to approximately 20,000 rows by removing all submissions that did not receive any comments, and then randomly sampling from the remaining submissions."
   ]
  },
  {
   "cell_type": "markdown",
   "metadata": {},
   "source": [
    "---\n",
    "\n",
    "## Reading the file\n",
    "\n",
    "---"
   ]
  },
  {
   "cell_type": "markdown",
   "metadata": {},
   "source": [
    "First I'll read in the data and remove the headers. "
   ]
  },
  {
   "cell_type": "code",
   "execution_count": 212,
   "metadata": {
    "scrolled": false
   },
   "outputs": [
    {
     "name": "stdout",
     "output_type": "stream",
     "text": [
      "['id', 'title', 'url', 'num_points', 'num_comments', 'author', 'created_at']\n",
      "[['12224879', 'Interactive Dynamic Video', 'http://www.interactivedynamicvideo.com/', '386', '52', 'ne0phyte', '8/4/2016 11:52'], ['10975351', 'How to Use Open Source and Shut the Fuck Up at the Same Time', 'http://hueniverse.com/2016/01/26/how-to-use-open-source-and-shut-the-fuck-up-at-the-same-time/', '39', '10', 'josep2', '1/26/2016 19:30'], ['11964716', \"Florida DJs May Face Felony for April Fools' Water Joke\", 'http://www.thewire.com/entertainment/2013/04/florida-djs-april-fools-water-joke/63798/', '2', '1', 'vezycash', '6/23/2016 22:20'], ['11919867', 'Technology ventures: From Idea to Enterprise', 'https://www.amazon.com/Technology-Ventures-Enterprise-Thomas-Byers/dp/0073523429', '3', '1', 'hswarna', '6/17/2016 0:01'], ['10301696', 'Note by Note: The Making of Steinway L1037 (2007)', 'http://www.nytimes.com/2007/11/07/movies/07stein.html?_r=0', '8', '2', 'walterbell', '9/30/2015 4:12']]\n"
     ]
    }
   ],
   "source": [
    "from csv import reader\n",
    "\n",
    "opened_file = open('hacker_news.csv')\n",
    "read_file = reader(opened_file)\n",
    "hn = list(read_file) \n",
    "hn_headers = hn[0]\n",
    "hn = hn[1:]\n",
    "\n",
    "print(hn_headers)\n",
    "print(hn[:5])"
   ]
  },
  {
   "cell_type": "markdown",
   "metadata": {},
   "source": [
    "We can see that the data set contains the title of the posts, the number of comments for each post, the number of points for each post, and the date the post was created."
   ]
  },
  {
   "cell_type": "markdown",
   "metadata": {
    "collapsed": true
   },
   "source": [
    "---\n",
    "\n",
    "## Extracting Ask HN and Show HN posts\n",
    "\n",
    "---"
   ]
  },
  {
   "cell_type": "markdown",
   "metadata": {},
   "source": [
    "First, I'll identify posts that begin with either Ask HN or Show HN and separate the data for those two types of posts into different lists from the other types of posts. Separating the data makes it easier to analyze in the following steps."
   ]
  },
  {
   "cell_type": "code",
   "execution_count": 213,
   "metadata": {},
   "outputs": [
    {
     "name": "stdout",
     "output_type": "stream",
     "text": [
      "1744\n",
      "1162\n",
      "17194\n"
     ]
    }
   ],
   "source": [
    "ask_posts = []\n",
    "show_posts = []\n",
    "other_posts = []\n",
    "\n",
    "for row in hn :\n",
    "    title = row[1]\n",
    "    if title.lower().startswith('ask hn') :\n",
    "        ask_posts.append(row)\n",
    "    elif title.lower().startswith('show hn') :\n",
    "        show_posts.append(row)\n",
    "    else :\n",
    "        other_posts.append(row)\n",
    "\n",
    "print(len(ask_posts))\n",
    "print(len(show_posts))\n",
    "print(len(other_posts))"
   ]
  },
  {
   "cell_type": "code",
   "execution_count": 214,
   "metadata": {},
   "outputs": [
    {
     "name": "stdout",
     "output_type": "stream",
     "text": [
      "[['12296411', 'Ask HN: How to improve my personal website?', '', '2', '6', 'ahmedbaracat', '8/16/2016 9:55'], ['10610020', 'Ask HN: Am I the only one outraged by Twitter shutting down share counts?', '', '28', '29', 'tkfx', '11/22/2015 13:43'], ['11610310', 'Ask HN: Aby recent changes to CSS that broke mobile?', '', '1', '1', 'polskibus', '5/2/2016 10:14'], ['12210105', 'Ask HN: Looking for Employee #3 How do I do it?', '', '1', '3', 'sph130', '8/2/2016 14:20'], ['10394168', 'Ask HN: Someone offered to buy my browser extension from me. What now?', '', '28', '17', 'roykolak', '10/15/2015 16:38']]\n"
     ]
    }
   ],
   "source": [
    "print(ask_posts[:5])"
   ]
  },
  {
   "cell_type": "code",
   "execution_count": 215,
   "metadata": {},
   "outputs": [
    {
     "name": "stdout",
     "output_type": "stream",
     "text": [
      "[['10627194', 'Show HN: Wio Link  ESP8266 Based Web of Things Hardware Development Platform', 'https://iot.seeed.cc', '26', '22', 'kfihihc', '11/25/2015 14:03'], ['10646440', 'Show HN: Something pointless I made', 'http://dn.ht/picklecat/', '747', '102', 'dhotson', '11/29/2015 22:46'], ['11590768', 'Show HN: Shanhu.io, a programming playground powered by e8vm', 'https://shanhu.io', '1', '1', 'h8liu', '4/28/2016 18:05'], ['12178806', 'Show HN: Webscope  Easy way for web developers to communicate with Clients', 'http://webscopeapp.com', '3', '3', 'fastbrick', '7/28/2016 7:11'], ['10872799', 'Show HN: GeoScreenshot  Easily test Geo-IP based web pages', 'https://www.geoscreenshot.com/', '1', '9', 'kpsychwave', '1/9/2016 20:45']]\n"
     ]
    }
   ],
   "source": [
    "print(show_posts[:5])"
   ]
  },
  {
   "cell_type": "markdown",
   "metadata": {},
   "source": [
    "Let's start by exploring the number of comments for each type of post."
   ]
  },
  {
   "cell_type": "markdown",
   "metadata": {},
   "source": [
    "---\n",
    "\n",
    "# Comments\n",
    "\n",
    "---"
   ]
  },
  {
   "cell_type": "markdown",
   "metadata": {},
   "source": [
    "---\n",
    "\n",
    "## Calculating the Average Number of Comments for Ask HN and Show HN Posts\n",
    "\n",
    "---"
   ]
  },
  {
   "cell_type": "markdown",
   "metadata": {},
   "source": [
    "Now that the ask posts and show posts are separated into different lists, I'll calculate the average number of comments each type of post receives."
   ]
  },
  {
   "cell_type": "code",
   "execution_count": 216,
   "metadata": {},
   "outputs": [
    {
     "name": "stdout",
     "output_type": "stream",
     "text": [
      "14.038417431192661\n"
     ]
    }
   ],
   "source": [
    "total_ask_comments = 0\n",
    "\n",
    "for post in ask_posts :\n",
    "    num_comments = post[4]\n",
    "    num_comments = int(num_comments)\n",
    "    total_ask_comments += num_comments\n",
    "    \n",
    "avg_ask_comments = total_ask_comments / len(ask_posts)\n",
    "\n",
    "print(avg_ask_comments)"
   ]
  },
  {
   "cell_type": "code",
   "execution_count": 217,
   "metadata": {},
   "outputs": [
    {
     "name": "stdout",
     "output_type": "stream",
     "text": [
      "10.31669535283993\n"
     ]
    }
   ],
   "source": [
    "total_show_comments = 0\n",
    "\n",
    "for post in show_posts :\n",
    "    num_comments = post[4]\n",
    "    num_comments = int(num_comments)\n",
    "    total_show_comments += num_comments\n",
    "    \n",
    "avg_show_comments = total_show_comments / len(show_posts)\n",
    "\n",
    "print(avg_show_comments)"
   ]
  },
  {
   "cell_type": "markdown",
   "metadata": {},
   "source": [
    "On average, ask posts in the sample receive approximately 14 comments, whereas show posts receive approximately 10. Since ask posts are more likely to receive comments, I'll focus our remaining analysis just on these posts."
   ]
  },
  {
   "cell_type": "markdown",
   "metadata": {
    "collapsed": true
   },
   "source": [
    "---\n",
    "\n",
    "## Finding the Amount of Ask Posts and Comments by Hour Created\n",
    "\n",
    "---"
   ]
  },
  {
   "cell_type": "markdown",
   "metadata": {},
   "source": [
    "Next, I'll determine if we can maximize the amount of comments an ask post receives by creating it at a certain time. To do this I will: \n",
    "* Calculate the amount of ask posts created in each hour of the day, along with the number of comments received.\n",
    "* Calculate the average number of comments ask posts receive by hour created."
   ]
  },
  {
   "cell_type": "code",
   "execution_count": 218,
   "metadata": {},
   "outputs": [
    {
     "name": "stdout",
     "output_type": "stream",
     "text": [
      "{'12': 73, '07': 34, '22': 71, '16': 108, '05': 46, '10': 59, '06': 44, '14': 107, '19': 110, '17': 100, '18': 109, '21': 109, '11': 58, '00': 55, '13': 85, '23': 68, '08': 48, '20': 80, '15': 116, '03': 54, '04': 47, '09': 45, '01': 60, '02': 58}\n",
      "{'12': 687, '07': 267, '22': 479, '16': 1814, '05': 464, '10': 793, '06': 397, '14': 1416, '19': 1188, '17': 1146, '18': 1439, '21': 1745, '11': 641, '00': 447, '13': 1253, '23': 543, '08': 492, '20': 1722, '15': 4477, '03': 421, '04': 337, '09': 251, '01': 683, '02': 1381}\n"
     ]
    }
   ],
   "source": [
    "# calculating the amount of ask posts and comments by hour created\n",
    "\n",
    "import datetime as dt\n",
    "\n",
    "result_list = []\n",
    "\n",
    "for post in ask_posts :\n",
    "    created_at = post[6]\n",
    "    num_comments = post[4]\n",
    "    num_comments = int(num_comments)\n",
    "    result_list.append([created_at, num_comments])\n",
    "\n",
    "counts_by_hour = {}\n",
    "comments_by_hour = {}\n",
    "date_format = \"%m/%d/%Y %H:%M\"\n",
    "\n",
    "for row in result_list :\n",
    "    date = row[0]\n",
    "    comments = row[1]\n",
    "    hour = dt.datetime.strptime(date, date_format).strftime(\"%H\")\n",
    "    \n",
    "    if hour not in counts_by_hour :\n",
    "        counts_by_hour[hour] = 1\n",
    "        comments_by_hour[hour] = comments\n",
    "    else :\n",
    "        counts_by_hour[hour] += 1\n",
    "        comments_by_hour[hour] += comments\n",
    "\n",
    "print(counts_by_hour)\n",
    "print(comments_by_hour)"
   ]
  },
  {
   "cell_type": "markdown",
   "metadata": {},
   "source": [
    "---\n",
    "\n",
    "## Calculating the Average Number of Comments for Ask HN Posts by Hour\n",
    "\n",
    "---"
   ]
  },
  {
   "cell_type": "markdown",
   "metadata": {},
   "source": [
    "Next, I'll calculate the average number of comments for posts created during each hour of the day. "
   ]
  },
  {
   "cell_type": "code",
   "execution_count": 219,
   "metadata": {},
   "outputs": [
    {
     "data": {
      "text/plain": [
       "[['12', 9.41095890410959],\n",
       " ['07', 7.852941176470588],\n",
       " ['22', 6.746478873239437],\n",
       " ['16', 16.796296296296298],\n",
       " ['05', 10.08695652173913],\n",
       " ['10', 13.440677966101696],\n",
       " ['06', 9.022727272727273],\n",
       " ['14', 13.233644859813085],\n",
       " ['19', 10.8],\n",
       " ['17', 11.46],\n",
       " ['18', 13.20183486238532],\n",
       " ['21', 16.009174311926607],\n",
       " ['11', 11.051724137931034],\n",
       " ['00', 8.127272727272727],\n",
       " ['13', 14.741176470588234],\n",
       " ['23', 7.985294117647059],\n",
       " ['08', 10.25],\n",
       " ['20', 21.525],\n",
       " ['15', 38.5948275862069],\n",
       " ['03', 7.796296296296297],\n",
       " ['04', 7.170212765957447],\n",
       " ['09', 5.5777777777777775],\n",
       " ['01', 11.383333333333333],\n",
       " ['02', 23.810344827586206]]"
      ]
     },
     "execution_count": 219,
     "metadata": {},
     "output_type": "execute_result"
    }
   ],
   "source": [
    "# Calculate the average amount of comments ask posts created at each hour of the day receive.\n",
    "\n",
    "avg_by_hour = []\n",
    "\n",
    "for hour in comments_by_hour :\n",
    "    avg_by_hour.append([hour, (comments_by_hour[hour]/counts_by_hour[hour])])\n",
    "    \n",
    "avg_by_hour"
   ]
  },
  {
   "cell_type": "markdown",
   "metadata": {},
   "source": [
    "---\n",
    "\n",
    "## Sorting and Printing Values from a List of Lists for Comments on Ask Posts\n",
    "\n",
    "---"
   ]
  },
  {
   "cell_type": "code",
   "execution_count": 220,
   "metadata": {},
   "outputs": [
    {
     "data": {
      "text/plain": [
       "[[9.41095890410959, '12'],\n",
       " [7.852941176470588, '07'],\n",
       " [6.746478873239437, '22'],\n",
       " [16.796296296296298, '16'],\n",
       " [10.08695652173913, '05'],\n",
       " [13.440677966101696, '10'],\n",
       " [9.022727272727273, '06'],\n",
       " [13.233644859813085, '14'],\n",
       " [10.8, '19'],\n",
       " [11.46, '17'],\n",
       " [13.20183486238532, '18'],\n",
       " [16.009174311926607, '21'],\n",
       " [11.051724137931034, '11'],\n",
       " [8.127272727272727, '00'],\n",
       " [14.741176470588234, '13'],\n",
       " [7.985294117647059, '23'],\n",
       " [10.25, '08'],\n",
       " [21.525, '20'],\n",
       " [38.5948275862069, '15'],\n",
       " [7.796296296296297, '03'],\n",
       " [7.170212765957447, '04'],\n",
       " [5.5777777777777775, '09'],\n",
       " [11.383333333333333, '01'],\n",
       " [23.810344827586206, '02']]"
      ]
     },
     "execution_count": 220,
     "metadata": {},
     "output_type": "execute_result"
    }
   ],
   "source": [
    "swap_avg_by_hour = []\n",
    "\n",
    "for row in avg_by_hour :\n",
    "    swap_avg_by_hour.append(\n",
    "    [row[1], row[0]])\n",
    "swap_avg_by_hour"
   ]
  },
  {
   "cell_type": "code",
   "execution_count": 221,
   "metadata": {},
   "outputs": [
    {
     "data": {
      "text/plain": [
       "[[38.5948275862069, '15'],\n",
       " [23.810344827586206, '02'],\n",
       " [21.525, '20'],\n",
       " [16.796296296296298, '16'],\n",
       " [16.009174311926607, '21'],\n",
       " [14.741176470588234, '13'],\n",
       " [13.440677966101696, '10'],\n",
       " [13.233644859813085, '14'],\n",
       " [13.20183486238532, '18'],\n",
       " [11.46, '17'],\n",
       " [11.383333333333333, '01'],\n",
       " [11.051724137931034, '11'],\n",
       " [10.8, '19'],\n",
       " [10.25, '08'],\n",
       " [10.08695652173913, '05'],\n",
       " [9.41095890410959, '12'],\n",
       " [9.022727272727273, '06'],\n",
       " [8.127272727272727, '00'],\n",
       " [7.985294117647059, '23'],\n",
       " [7.852941176470588, '07'],\n",
       " [7.796296296296297, '03'],\n",
       " [7.170212765957447, '04'],\n",
       " [6.746478873239437, '22'],\n",
       " [5.5777777777777775, '09']]"
      ]
     },
     "execution_count": 221,
     "metadata": {},
     "output_type": "execute_result"
    }
   ],
   "source": [
    "sorted_swap = sorted(swap_avg_by_hour, reverse=True)\n",
    "sorted_swap"
   ]
  },
  {
   "cell_type": "code",
   "execution_count": 222,
   "metadata": {},
   "outputs": [
    {
     "name": "stdout",
     "output_type": "stream",
     "text": [
      "Top 5 Hours for 'Ask HN' Posts Comments\n",
      "15:00: 38.59 average comments per post\n",
      "02:00: 23.81 average comments per post\n",
      "20:00: 21.52 average comments per post\n",
      "16:00: 16.80 average comments per post\n",
      "21:00: 16.01 average comments per post\n"
     ]
    }
   ],
   "source": [
    "print(\"Top 5 Hours for 'Ask HN' Posts Comments\")\n",
    "for avg, hour in sorted_swap[:5] :\n",
    "    print(\n",
    "    \"{}: {:.2f} average comments per post\".format(\n",
    "        dt.datetime.strptime(hour,\"%H\").strftime(\"%H:%M\"),avg\n",
    "        )\n",
    "    )"
   ]
  },
  {
   "cell_type": "markdown",
   "metadata": {},
   "source": [
    "According to the data set documentation, the timezone used is Eastern Time in the US. The hour that receives the most comments per post on average is 15:00, or 3:00 pm EST, with an average of 38.59 comments per post. "
   ]
  },
  {
   "cell_type": "markdown",
   "metadata": {},
   "source": [
    "Now let's start exploring the number of points for each type of post."
   ]
  },
  {
   "cell_type": "markdown",
   "metadata": {},
   "source": [
    "---\n",
    "\n",
    "# Points\n",
    "\n",
    "---"
   ]
  },
  {
   "cell_type": "markdown",
   "metadata": {
    "collapsed": true
   },
   "source": [
    "---\n",
    "\n",
    "## Calculating the Average Number of Points for Ask HN and Show HN Posts\n",
    "\n",
    "---"
   ]
  },
  {
   "cell_type": "markdown",
   "metadata": {},
   "source": [
    "Below I'll calculate the average number of points each type of post receives."
   ]
  },
  {
   "cell_type": "code",
   "execution_count": 223,
   "metadata": {},
   "outputs": [
    {
     "name": "stdout",
     "output_type": "stream",
     "text": [
      "15.061926605504587\n"
     ]
    }
   ],
   "source": [
    "total_ask_points = 0\n",
    "\n",
    "for post in ask_posts :\n",
    "    num_points = post[3]\n",
    "    num_points = int(num_points)\n",
    "    total_ask_points += num_points\n",
    "    \n",
    "avg_ask_points = total_ask_points / len(ask_posts)\n",
    "\n",
    "print(avg_ask_points)"
   ]
  },
  {
   "cell_type": "code",
   "execution_count": 224,
   "metadata": {},
   "outputs": [
    {
     "name": "stdout",
     "output_type": "stream",
     "text": [
      "27.555077452667813\n"
     ]
    }
   ],
   "source": [
    "total_show_points = 0\n",
    "\n",
    "for post in show_posts :\n",
    "    num_points = post[3]\n",
    "    num_points = int(num_points)\n",
    "    total_show_points += num_points\n",
    "    \n",
    "avg_show_points = total_show_points / len(show_posts)\n",
    "\n",
    "print(avg_show_points)"
   ]
  },
  {
   "cell_type": "markdown",
   "metadata": {},
   "source": [
    "On average, show posts in the sample receive approximately 27 points, whereas ask posts receive approximately 15. Since show posts are more likely to receive points, I'll focus our remaining analysis just on these posts."
   ]
  },
  {
   "cell_type": "markdown",
   "metadata": {},
   "source": [
    "---\n",
    "\n",
    "## Finding the Amount of Show Posts and Points by Hour Created\n",
    "\n",
    "---"
   ]
  },
  {
   "cell_type": "markdown",
   "metadata": {},
   "source": [
    "Next, I'll determine if we can maximize the amount of points a show post receives by creating it at a certain time. To do this I will: \n",
    "* Calculate the amount of show posts created in each hour of the day, along with the number of points received.\n",
    "* Calculate the average number of points show posts receive by hour created."
   ]
  },
  {
   "cell_type": "code",
   "execution_count": 225,
   "metadata": {},
   "outputs": [
    {
     "name": "stdout",
     "output_type": "stream",
     "text": [
      "{'12': 61, '17': 93, '22': 46, '16': 93, '05': 19, '10': 36, '11': 44, '14': 86, '18': 61, '07': 26, '00': 31, '19': 55, '21': 47, '06': 16, '13': 99, '23': 36, '08': 34, '20': 60, '15': 78, '03': 27, '04': 26, '02': 30, '01': 28, '09': 30}\n",
      "{'12': 2543, '17': 2521, '22': 1856, '16': 2634, '05': 104, '10': 681, '11': 1480, '14': 2187, '18': 2215, '07': 494, '00': 1173, '19': 1702, '21': 866, '06': 375, '13': 2438, '23': 1526, '08': 519, '20': 1819, '15': 2228, '03': 679, '04': 386, '02': 340, '01': 700, '09': 553}\n"
     ]
    }
   ],
   "source": [
    "# calculating the amount of show posts and points by hour created\n",
    "\n",
    "import datetime as dt\n",
    "\n",
    "result_list = []\n",
    "\n",
    "for post in show_posts :\n",
    "    created_at = post[6]\n",
    "    num_points = post[3]\n",
    "    num_points = int(num_points)\n",
    "    result_list.append([created_at, num_points])\n",
    "\n",
    "counts_by_hour = {}\n",
    "points_by_hour = {}\n",
    "date_format = \"%m/%d/%Y %H:%M\"\n",
    "\n",
    "for row in result_list :\n",
    "    date = row[0]\n",
    "    points = row[1]\n",
    "    hour = dt.datetime.strptime(date, date_format).strftime(\"%H\")\n",
    "    \n",
    "    if hour not in counts_by_hour :\n",
    "        counts_by_hour[hour] = 1\n",
    "        points_by_hour[hour] = points\n",
    "    else :\n",
    "        counts_by_hour[hour] += 1\n",
    "        points_by_hour[hour] += points\n",
    "\n",
    "print(counts_by_hour)\n",
    "print(points_by_hour)"
   ]
  },
  {
   "cell_type": "markdown",
   "metadata": {},
   "source": [
    "---\n",
    "\n",
    "## Calculating the Average Number of Points for Show HN Posts by Hour\n",
    "\n",
    "---"
   ]
  },
  {
   "cell_type": "markdown",
   "metadata": {},
   "source": [
    "Next, I'll calculate the average number of points for posts created during each hour of the day. "
   ]
  },
  {
   "cell_type": "code",
   "execution_count": 226,
   "metadata": {},
   "outputs": [
    {
     "data": {
      "text/plain": [
       "[['12', 41.68852459016394],\n",
       " ['17', 27.107526881720432],\n",
       " ['22', 40.34782608695652],\n",
       " ['16', 28.322580645161292],\n",
       " ['05', 5.473684210526316],\n",
       " ['10', 18.916666666666668],\n",
       " ['11', 33.63636363636363],\n",
       " ['14', 25.430232558139537],\n",
       " ['18', 36.31147540983606],\n",
       " ['07', 19.0],\n",
       " ['00', 37.83870967741935],\n",
       " ['19', 30.945454545454545],\n",
       " ['21', 18.425531914893618],\n",
       " ['06', 23.4375],\n",
       " ['13', 24.626262626262626],\n",
       " ['23', 42.388888888888886],\n",
       " ['08', 15.264705882352942],\n",
       " ['20', 30.316666666666666],\n",
       " ['15', 28.564102564102566],\n",
       " ['03', 25.14814814814815],\n",
       " ['04', 14.846153846153847],\n",
       " ['02', 11.333333333333334],\n",
       " ['01', 25.0],\n",
       " ['09', 18.433333333333334]]"
      ]
     },
     "execution_count": 226,
     "metadata": {},
     "output_type": "execute_result"
    }
   ],
   "source": [
    "# Calculate the average amount of points show posts created at each hour of the day receive.\n",
    "\n",
    "avg_by_hour = []\n",
    "\n",
    "for hour in points_by_hour :\n",
    "    avg_by_hour.append([hour, (points_by_hour[hour]/counts_by_hour[hour])])\n",
    "    \n",
    "avg_by_hour"
   ]
  },
  {
   "cell_type": "markdown",
   "metadata": {},
   "source": [
    "---\n",
    "\n",
    "## Sorting and Printing Values from a List of Lists for Points on Show Posts\n",
    "\n",
    "---"
   ]
  },
  {
   "cell_type": "code",
   "execution_count": 227,
   "metadata": {},
   "outputs": [
    {
     "data": {
      "text/plain": [
       "[[41.68852459016394, '12'],\n",
       " [27.107526881720432, '17'],\n",
       " [40.34782608695652, '22'],\n",
       " [28.322580645161292, '16'],\n",
       " [5.473684210526316, '05'],\n",
       " [18.916666666666668, '10'],\n",
       " [33.63636363636363, '11'],\n",
       " [25.430232558139537, '14'],\n",
       " [36.31147540983606, '18'],\n",
       " [19.0, '07'],\n",
       " [37.83870967741935, '00'],\n",
       " [30.945454545454545, '19'],\n",
       " [18.425531914893618, '21'],\n",
       " [23.4375, '06'],\n",
       " [24.626262626262626, '13'],\n",
       " [42.388888888888886, '23'],\n",
       " [15.264705882352942, '08'],\n",
       " [30.316666666666666, '20'],\n",
       " [28.564102564102566, '15'],\n",
       " [25.14814814814815, '03'],\n",
       " [14.846153846153847, '04'],\n",
       " [11.333333333333334, '02'],\n",
       " [25.0, '01'],\n",
       " [18.433333333333334, '09']]"
      ]
     },
     "execution_count": 227,
     "metadata": {},
     "output_type": "execute_result"
    }
   ],
   "source": [
    "swap_avg_by_hour = []\n",
    "\n",
    "for row in avg_by_hour :\n",
    "    swap_avg_by_hour.append(\n",
    "    [row[1], row[0]])\n",
    "swap_avg_by_hour"
   ]
  },
  {
   "cell_type": "code",
   "execution_count": 228,
   "metadata": {},
   "outputs": [
    {
     "data": {
      "text/plain": [
       "[[42.388888888888886, '23'],\n",
       " [41.68852459016394, '12'],\n",
       " [40.34782608695652, '22'],\n",
       " [37.83870967741935, '00'],\n",
       " [36.31147540983606, '18'],\n",
       " [33.63636363636363, '11'],\n",
       " [30.945454545454545, '19'],\n",
       " [30.316666666666666, '20'],\n",
       " [28.564102564102566, '15'],\n",
       " [28.322580645161292, '16'],\n",
       " [27.107526881720432, '17'],\n",
       " [25.430232558139537, '14'],\n",
       " [25.14814814814815, '03'],\n",
       " [25.0, '01'],\n",
       " [24.626262626262626, '13'],\n",
       " [23.4375, '06'],\n",
       " [19.0, '07'],\n",
       " [18.916666666666668, '10'],\n",
       " [18.433333333333334, '09'],\n",
       " [18.425531914893618, '21'],\n",
       " [15.264705882352942, '08'],\n",
       " [14.846153846153847, '04'],\n",
       " [11.333333333333334, '02'],\n",
       " [5.473684210526316, '05']]"
      ]
     },
     "execution_count": 228,
     "metadata": {},
     "output_type": "execute_result"
    }
   ],
   "source": [
    "sorted_swap = sorted(swap_avg_by_hour, reverse=True)\n",
    "sorted_swap"
   ]
  },
  {
   "cell_type": "code",
   "execution_count": 229,
   "metadata": {},
   "outputs": [
    {
     "name": "stdout",
     "output_type": "stream",
     "text": [
      "Top 5 Hours for 'Show HN' Posts Points\n",
      "23:00: 42.39 average points per post\n",
      "12:00: 41.69 average points per post\n",
      "22:00: 40.35 average points per post\n",
      "00:00: 37.84 average points per post\n",
      "18:00: 36.31 average points per post\n"
     ]
    }
   ],
   "source": [
    "print(\"Top 5 Hours for 'Show HN' Posts Points\")\n",
    "for avg, hour in sorted_swap[:5] :\n",
    "    print(\n",
    "    \"{}: {:.2f} average points per post\".format(\n",
    "        dt.datetime.strptime(hour,\"%H\").strftime(\"%H:%M\"),avg\n",
    "        )\n",
    "    )"
   ]
  },
  {
   "cell_type": "markdown",
   "metadata": {},
   "source": [
    "The hour that receives the most points per post on average is 23:00, or 11:00 pm EST, with an average of 42.39 comments per post. "
   ]
  },
  {
   "cell_type": "markdown",
   "metadata": {},
   "source": [
    "Now let's explore the number of comments for other posts."
   ]
  },
  {
   "cell_type": "markdown",
   "metadata": {},
   "source": [
    "# Other"
   ]
  },
  {
   "cell_type": "code",
   "execution_count": 230,
   "metadata": {},
   "outputs": [
    {
     "name": "stdout",
     "output_type": "stream",
     "text": [
      "[['12224879', 'Interactive Dynamic Video', 'http://www.interactivedynamicvideo.com/', '386', '52', 'ne0phyte', '8/4/2016 11:52'], ['10975351', 'How to Use Open Source and Shut the Fuck Up at the Same Time', 'http://hueniverse.com/2016/01/26/how-to-use-open-source-and-shut-the-fuck-up-at-the-same-time/', '39', '10', 'josep2', '1/26/2016 19:30'], ['11964716', \"Florida DJs May Face Felony for April Fools' Water Joke\", 'http://www.thewire.com/entertainment/2013/04/florida-djs-april-fools-water-joke/63798/', '2', '1', 'vezycash', '6/23/2016 22:20'], ['11919867', 'Technology ventures: From Idea to Enterprise', 'https://www.amazon.com/Technology-Ventures-Enterprise-Thomas-Byers/dp/0073523429', '3', '1', 'hswarna', '6/17/2016 0:01'], ['10301696', 'Note by Note: The Making of Steinway L1037 (2007)', 'http://www.nytimes.com/2007/11/07/movies/07stein.html?_r=0', '8', '2', 'walterbell', '9/30/2015 4:12']]\n"
     ]
    }
   ],
   "source": [
    "print(other_posts[:5])"
   ]
  },
  {
   "cell_type": "markdown",
   "metadata": {},
   "source": [
    "---\n",
    "\n",
    "## Calculating the Average Number of Comments for Other Posts\n",
    "\n",
    "---"
   ]
  },
  {
   "cell_type": "markdown",
   "metadata": {},
   "source": [
    "Here I'll calculate the average number of comments other types of posts receives."
   ]
  },
  {
   "cell_type": "code",
   "execution_count": 231,
   "metadata": {},
   "outputs": [
    {
     "name": "stdout",
     "output_type": "stream",
     "text": [
      "26.8730371059672\n"
     ]
    }
   ],
   "source": [
    "total_other_comments = 0\n",
    "\n",
    "for post in other_posts :\n",
    "    num_comments = post[4]\n",
    "    num_comments = int(num_comments)\n",
    "    total_other_comments += num_comments\n",
    "    \n",
    "avg_other_comments = total_other_comments / len(other_posts)\n",
    "\n",
    "print(avg_other_comments)"
   ]
  },
  {
   "cell_type": "markdown",
   "metadata": {},
   "source": [
    "On average, other posts in the sample receive approximately 26 comments."
   ]
  },
  {
   "cell_type": "markdown",
   "metadata": {},
   "source": [
    "---\n",
    "\n",
    "## Finding the Amount of Other Posts and Comments by Hour Created\n",
    "\n",
    "---"
   ]
  },
  {
   "cell_type": "markdown",
   "metadata": {},
   "source": [
    "Next, I'll determine if we can maximize the amount of comments an other post receives by creating it at a certain time. To do this I will: \n",
    "* Calculate the amount of other posts created in each hour of the day, along with the number of comments received.\n",
    "* Calculate the average number of comments other posts receive by hour created."
   ]
  },
  {
   "cell_type": "code",
   "execution_count": 232,
   "metadata": {},
   "outputs": [
    {
     "name": "stdout",
     "output_type": "stream",
     "text": [
      "{'12': 789, '06': 408, '22': 758, '11': 660, '05': 388, '10': 591, '16': 1101, '14': 958, '18': 1084, '17': 1169, '19': 980, '21': 874, '07': 448, '00': 611, '13': 918, '23': 674, '08': 496, '20': 911, '15': 1040, '03': 407, '04': 454, '09': 534, '01': 500, '02': 441}\n",
      "{'12': 23944, '06': 8714, '22': 17635, '11': 19532, '05': 9768, '10': 15728, '16': 27959, '14': 30973, '18': 29186, '17': 32727, '19': 26167, '21': 20635, '07': 12010, '00': 16544, '13': 28363, '23': 16592, '08': 13405, '20': 21080, '15': 30700, '03': 10918, '04': 10953, '09': 14732, '01': 11536, '02': 12254}\n"
     ]
    }
   ],
   "source": [
    "# calculating the amount of other posts and comments by hour created\n",
    "\n",
    "import datetime as dt\n",
    "\n",
    "result_list = []\n",
    "\n",
    "for post in other_posts :\n",
    "    created_at = post[6]\n",
    "    num_comments = post[4]\n",
    "    num_comments = int(num_comments)\n",
    "    result_list.append([created_at, num_comments])\n",
    "\n",
    "counts_by_hour = {}\n",
    "comments_by_hour = {}\n",
    "date_format = \"%m/%d/%Y %H:%M\"\n",
    "\n",
    "for row in result_list :\n",
    "    date = row[0]\n",
    "    comments = row[1]\n",
    "    hour = dt.datetime.strptime(date, date_format).strftime(\"%H\")\n",
    "    \n",
    "    if hour not in counts_by_hour :\n",
    "        counts_by_hour[hour] = 1\n",
    "        comments_by_hour[hour] = comments\n",
    "    else :\n",
    "        counts_by_hour[hour] += 1\n",
    "        comments_by_hour[hour] += comments\n",
    "\n",
    "print(counts_by_hour)\n",
    "print(comments_by_hour)"
   ]
  },
  {
   "cell_type": "markdown",
   "metadata": {},
   "source": [
    "---\n",
    "\n",
    "## Calculating the Average Number of Comments for Other Posts by Hour\n",
    "\n",
    "---"
   ]
  },
  {
   "cell_type": "markdown",
   "metadata": {},
   "source": [
    "Next, I'll calculate the average number of comments for posts created during each hour of the day. "
   ]
  },
  {
   "cell_type": "code",
   "execution_count": 233,
   "metadata": {},
   "outputs": [
    {
     "data": {
      "text/plain": [
       "[['12', 30.34727503168568],\n",
       " ['06', 21.357843137254903],\n",
       " ['22', 23.265171503957784],\n",
       " ['11', 29.593939393939394],\n",
       " ['05', 25.175257731958762],\n",
       " ['10', 26.612521150592215],\n",
       " ['16', 25.394187102633968],\n",
       " ['14', 32.33089770354906],\n",
       " ['18', 26.924354243542435],\n",
       " ['17', 27.99572284003422],\n",
       " ['19', 26.701020408163266],\n",
       " ['21', 23.60983981693364],\n",
       " ['07', 26.808035714285715],\n",
       " ['00', 27.076923076923077],\n",
       " ['13', 30.896514161220043],\n",
       " ['23', 24.617210682492583],\n",
       " ['08', 27.026209677419356],\n",
       " ['20', 23.13940724478595],\n",
       " ['15', 29.51923076923077],\n",
       " ['03', 26.825552825552826],\n",
       " ['04', 24.125550660792953],\n",
       " ['09', 27.588014981273407],\n",
       " ['01', 23.072],\n",
       " ['02', 27.786848072562357]]"
      ]
     },
     "execution_count": 233,
     "metadata": {},
     "output_type": "execute_result"
    }
   ],
   "source": [
    "# Calculate the average amount of comments other posts created at each hour of the day receive.\n",
    "\n",
    "avg_by_hour = []\n",
    "\n",
    "for hour in comments_by_hour :\n",
    "    avg_by_hour.append([hour, (comments_by_hour[hour]/counts_by_hour[hour])])\n",
    "    \n",
    "avg_by_hour"
   ]
  },
  {
   "cell_type": "markdown",
   "metadata": {},
   "source": [
    "---\n",
    "\n",
    "## Sorting and Printing Values from a List of Lists for Comments on Other Posts\n",
    "\n",
    "---"
   ]
  },
  {
   "cell_type": "code",
   "execution_count": 234,
   "metadata": {},
   "outputs": [
    {
     "data": {
      "text/plain": [
       "[[30.34727503168568, '12'],\n",
       " [21.357843137254903, '06'],\n",
       " [23.265171503957784, '22'],\n",
       " [29.593939393939394, '11'],\n",
       " [25.175257731958762, '05'],\n",
       " [26.612521150592215, '10'],\n",
       " [25.394187102633968, '16'],\n",
       " [32.33089770354906, '14'],\n",
       " [26.924354243542435, '18'],\n",
       " [27.99572284003422, '17'],\n",
       " [26.701020408163266, '19'],\n",
       " [23.60983981693364, '21'],\n",
       " [26.808035714285715, '07'],\n",
       " [27.076923076923077, '00'],\n",
       " [30.896514161220043, '13'],\n",
       " [24.617210682492583, '23'],\n",
       " [27.026209677419356, '08'],\n",
       " [23.13940724478595, '20'],\n",
       " [29.51923076923077, '15'],\n",
       " [26.825552825552826, '03'],\n",
       " [24.125550660792953, '04'],\n",
       " [27.588014981273407, '09'],\n",
       " [23.072, '01'],\n",
       " [27.786848072562357, '02']]"
      ]
     },
     "execution_count": 234,
     "metadata": {},
     "output_type": "execute_result"
    }
   ],
   "source": [
    "swap_avg_by_hour = []\n",
    "\n",
    "for row in avg_by_hour :\n",
    "    swap_avg_by_hour.append(\n",
    "    [row[1], row[0]])\n",
    "swap_avg_by_hour"
   ]
  },
  {
   "cell_type": "code",
   "execution_count": 235,
   "metadata": {},
   "outputs": [
    {
     "data": {
      "text/plain": [
       "[[32.33089770354906, '14'],\n",
       " [30.896514161220043, '13'],\n",
       " [30.34727503168568, '12'],\n",
       " [29.593939393939394, '11'],\n",
       " [29.51923076923077, '15'],\n",
       " [27.99572284003422, '17'],\n",
       " [27.786848072562357, '02'],\n",
       " [27.588014981273407, '09'],\n",
       " [27.076923076923077, '00'],\n",
       " [27.026209677419356, '08'],\n",
       " [26.924354243542435, '18'],\n",
       " [26.825552825552826, '03'],\n",
       " [26.808035714285715, '07'],\n",
       " [26.701020408163266, '19'],\n",
       " [26.612521150592215, '10'],\n",
       " [25.394187102633968, '16'],\n",
       " [25.175257731958762, '05'],\n",
       " [24.617210682492583, '23'],\n",
       " [24.125550660792953, '04'],\n",
       " [23.60983981693364, '21'],\n",
       " [23.265171503957784, '22'],\n",
       " [23.13940724478595, '20'],\n",
       " [23.072, '01'],\n",
       " [21.357843137254903, '06']]"
      ]
     },
     "execution_count": 235,
     "metadata": {},
     "output_type": "execute_result"
    }
   ],
   "source": [
    "sorted_swap = sorted(swap_avg_by_hour, reverse=True)\n",
    "sorted_swap"
   ]
  },
  {
   "cell_type": "code",
   "execution_count": 236,
   "metadata": {},
   "outputs": [
    {
     "name": "stdout",
     "output_type": "stream",
     "text": [
      "Top 5 Hours for Other Posts Comments\n",
      "14:00: 32.33 average comments per post\n",
      "13:00: 30.90 average comments per post\n",
      "12:00: 30.35 average comments per post\n",
      "11:00: 29.59 average comments per post\n",
      "15:00: 29.52 average comments per post\n"
     ]
    }
   ],
   "source": [
    "print(\"Top 5 Hours for Other Posts Comments\")\n",
    "for avg, hour in sorted_swap[:5] :\n",
    "    print(\n",
    "    \"{}: {:.2f} average comments per post\".format(\n",
    "        dt.datetime.strptime(hour,\"%H\").strftime(\"%H:%M\"),avg\n",
    "        )\n",
    "    )"
   ]
  },
  {
   "cell_type": "markdown",
   "metadata": {},
   "source": [
    "The hour that receives the most comments per post on average is 14:00, or 2:00 pm EST, with an average of 32.33 comments per post. "
   ]
  },
  {
   "cell_type": "markdown",
   "metadata": {},
   "source": [
    "Finally let's explore the number of points for other posts."
   ]
  },
  {
   "cell_type": "markdown",
   "metadata": {},
   "source": [
    "---\n",
    "\n",
    "## Calculating the Average Number of Points for Other Posts\n",
    "\n",
    "---"
   ]
  },
  {
   "cell_type": "markdown",
   "metadata": {},
   "source": [
    "Here I'll calculate the average number of points other posts receive."
   ]
  },
  {
   "cell_type": "code",
   "execution_count": 237,
   "metadata": {},
   "outputs": [
    {
     "name": "stdout",
     "output_type": "stream",
     "text": [
      "55.4067698034198\n"
     ]
    }
   ],
   "source": [
    "total_other_points = 0\n",
    "\n",
    "for post in other_posts :\n",
    "    num_points = post[3]\n",
    "    num_points = int(num_points)\n",
    "    total_other_points += num_points\n",
    "    \n",
    "avg_other_points = total_other_points / len(other_posts)\n",
    "\n",
    "print(avg_other_points)"
   ]
  },
  {
   "cell_type": "markdown",
   "metadata": {},
   "source": [
    "On average, other posts in the sample receive approximately 55 points. "
   ]
  },
  {
   "cell_type": "markdown",
   "metadata": {},
   "source": [
    "---\n",
    "\n",
    "## Finding the Amount of Other Posts and Points by Hour Created\n",
    "\n",
    "---"
   ]
  },
  {
   "cell_type": "markdown",
   "metadata": {},
   "source": [
    "Next, I'll determine if we can maximize the amount of points an other post receives by creating it at a certain time. To do this I will: \n",
    "* Calculate the amount of other posts created in each hour of the day, along with the number of points received.\n",
    "* Calculate the average number of points other posts receive by hour created."
   ]
  },
  {
   "cell_type": "code",
   "execution_count": 238,
   "metadata": {},
   "outputs": [
    {
     "name": "stdout",
     "output_type": "stream",
     "text": [
      "{'12': 789, '06': 408, '22': 758, '11': 660, '05': 388, '10': 591, '16': 1101, '14': 958, '18': 1084, '17': 1169, '19': 980, '21': 874, '07': 448, '00': 611, '13': 918, '23': 674, '08': 496, '20': 911, '15': 1040, '03': 407, '04': 454, '09': 534, '01': 500, '02': 441}\n",
      "{'12': 45287, '06': 18864, '22': 38079, '11': 37995, '05': 19387, '10': 35746, '16': 59655, '14': 59191, '18': 58459, '17': 67777, '19': 58811, '21': 43149, '07': 25461, '00': 35718, '13': 57398, '23': 35068, '08': 26830, '20': 41218, '15': 62964, '03': 23167, '04': 22549, '09': 28802, '01': 25303, '02': 25786}\n"
     ]
    }
   ],
   "source": [
    "# calculating the amount of other posts and points by hour created\n",
    "\n",
    "import datetime as dt\n",
    "\n",
    "result_list = []\n",
    "\n",
    "for post in other_posts :\n",
    "    created_at = post[6]\n",
    "    num_points = post[3]\n",
    "    num_points = int(num_points)\n",
    "    result_list.append([created_at, num_points])\n",
    "\n",
    "counts_by_hour = {}\n",
    "points_by_hour = {}\n",
    "date_format = \"%m/%d/%Y %H:%M\"\n",
    "\n",
    "for row in result_list :\n",
    "    date = row[0]\n",
    "    points = row[1]\n",
    "    hour = dt.datetime.strptime(date, date_format).strftime(\"%H\")\n",
    "    \n",
    "    if hour not in counts_by_hour :\n",
    "        counts_by_hour[hour] = 1\n",
    "        points_by_hour[hour] = points\n",
    "    else :\n",
    "        counts_by_hour[hour] += 1\n",
    "        points_by_hour[hour] += points\n",
    "\n",
    "print(counts_by_hour)\n",
    "print(points_by_hour)"
   ]
  },
  {
   "cell_type": "markdown",
   "metadata": {},
   "source": [
    "---\n",
    "\n",
    "## Calculating the Average Number of Points for Other Posts by Hour\n",
    "\n",
    "---"
   ]
  },
  {
   "cell_type": "markdown",
   "metadata": {},
   "source": [
    "Next, I'll calculate the average number of points for posts created during each hour of the day. "
   ]
  },
  {
   "cell_type": "code",
   "execution_count": 239,
   "metadata": {},
   "outputs": [
    {
     "data": {
      "text/plain": [
       "[['12', 57.3979721166033],\n",
       " ['06', 46.23529411764706],\n",
       " ['22', 50.236147757255935],\n",
       " ['11', 57.56818181818182],\n",
       " ['05', 49.96649484536083],\n",
       " ['10', 60.4839255499154],\n",
       " ['16', 54.182561307901906],\n",
       " ['14', 61.78601252609603],\n",
       " ['18', 53.928966789667896],\n",
       " ['17', 57.97861420017109],\n",
       " ['19', 60.01122448979592],\n",
       " ['21', 49.369565217391305],\n",
       " ['07', 56.832589285714285],\n",
       " ['00', 58.4582651391162],\n",
       " ['13', 62.525054466230934],\n",
       " ['23', 52.02967359050445],\n",
       " ['08', 54.09274193548387],\n",
       " ['20', 45.24478594950604],\n",
       " ['15', 60.542307692307695],\n",
       " ['03', 56.92137592137592],\n",
       " ['04', 49.66740088105727],\n",
       " ['09', 53.93632958801498],\n",
       " ['01', 50.606],\n",
       " ['02', 58.471655328798185]]"
      ]
     },
     "execution_count": 239,
     "metadata": {},
     "output_type": "execute_result"
    }
   ],
   "source": [
    "# Calculate the average amount of points other posts created at each hour of the day receive.\n",
    "\n",
    "avg_by_hour = []\n",
    "\n",
    "for hour in points_by_hour :\n",
    "    avg_by_hour.append([hour, (points_by_hour[hour]/counts_by_hour[hour])])\n",
    "    \n",
    "avg_by_hour"
   ]
  },
  {
   "cell_type": "markdown",
   "metadata": {},
   "source": [
    "---\n",
    "\n",
    "## Sorting and Printing Values from a List of Lists for Points on Other Posts\n",
    "\n",
    "---"
   ]
  },
  {
   "cell_type": "code",
   "execution_count": 240,
   "metadata": {},
   "outputs": [
    {
     "data": {
      "text/plain": [
       "[[57.3979721166033, '12'],\n",
       " [46.23529411764706, '06'],\n",
       " [50.236147757255935, '22'],\n",
       " [57.56818181818182, '11'],\n",
       " [49.96649484536083, '05'],\n",
       " [60.4839255499154, '10'],\n",
       " [54.182561307901906, '16'],\n",
       " [61.78601252609603, '14'],\n",
       " [53.928966789667896, '18'],\n",
       " [57.97861420017109, '17'],\n",
       " [60.01122448979592, '19'],\n",
       " [49.369565217391305, '21'],\n",
       " [56.832589285714285, '07'],\n",
       " [58.4582651391162, '00'],\n",
       " [62.525054466230934, '13'],\n",
       " [52.02967359050445, '23'],\n",
       " [54.09274193548387, '08'],\n",
       " [45.24478594950604, '20'],\n",
       " [60.542307692307695, '15'],\n",
       " [56.92137592137592, '03'],\n",
       " [49.66740088105727, '04'],\n",
       " [53.93632958801498, '09'],\n",
       " [50.606, '01'],\n",
       " [58.471655328798185, '02']]"
      ]
     },
     "execution_count": 240,
     "metadata": {},
     "output_type": "execute_result"
    }
   ],
   "source": [
    "swap_avg_by_hour = []\n",
    "\n",
    "for row in avg_by_hour :\n",
    "    swap_avg_by_hour.append(\n",
    "    [row[1], row[0]])\n",
    "swap_avg_by_hour"
   ]
  },
  {
   "cell_type": "code",
   "execution_count": 241,
   "metadata": {},
   "outputs": [
    {
     "data": {
      "text/plain": [
       "[[62.525054466230934, '13'],\n",
       " [61.78601252609603, '14'],\n",
       " [60.542307692307695, '15'],\n",
       " [60.4839255499154, '10'],\n",
       " [60.01122448979592, '19'],\n",
       " [58.471655328798185, '02'],\n",
       " [58.4582651391162, '00'],\n",
       " [57.97861420017109, '17'],\n",
       " [57.56818181818182, '11'],\n",
       " [57.3979721166033, '12'],\n",
       " [56.92137592137592, '03'],\n",
       " [56.832589285714285, '07'],\n",
       " [54.182561307901906, '16'],\n",
       " [54.09274193548387, '08'],\n",
       " [53.93632958801498, '09'],\n",
       " [53.928966789667896, '18'],\n",
       " [52.02967359050445, '23'],\n",
       " [50.606, '01'],\n",
       " [50.236147757255935, '22'],\n",
       " [49.96649484536083, '05'],\n",
       " [49.66740088105727, '04'],\n",
       " [49.369565217391305, '21'],\n",
       " [46.23529411764706, '06'],\n",
       " [45.24478594950604, '20']]"
      ]
     },
     "execution_count": 241,
     "metadata": {},
     "output_type": "execute_result"
    }
   ],
   "source": [
    "sorted_swap = sorted(swap_avg_by_hour, reverse=True)\n",
    "sorted_swap"
   ]
  },
  {
   "cell_type": "code",
   "execution_count": 242,
   "metadata": {},
   "outputs": [
    {
     "name": "stdout",
     "output_type": "stream",
     "text": [
      "Top 5 Hours for Other Posts Points\n",
      "13:00: 62.53 average points per post\n",
      "14:00: 61.79 average points per post\n",
      "15:00: 60.54 average points per post\n",
      "10:00: 60.48 average points per post\n",
      "19:00: 60.01 average points per post\n"
     ]
    }
   ],
   "source": [
    "print(\"Top 5 Hours for Other Posts Points\")\n",
    "for avg, hour in sorted_swap[:5] :\n",
    "    print(\n",
    "    \"{}: {:.2f} average points per post\".format(\n",
    "        dt.datetime.strptime(hour,\"%H\").strftime(\"%H:%M\"),avg\n",
    "        )\n",
    "    )"
   ]
  },
  {
   "cell_type": "markdown",
   "metadata": {},
   "source": [
    "The hour that receives the most points per post on average is 13:00, or 1:00 pm EST, with an average of 62.53 points per post. However, the top three hours are consecutive. "
   ]
  },
  {
   "cell_type": "markdown",
   "metadata": {},
   "source": [
    "---\n",
    "\n",
    "## Data Visualization\n",
    "\n",
    "---"
   ]
  },
  {
   "cell_type": "markdown",
   "metadata": {},
   "source": [
    "[Visualizations](https://github.com/leahrowland86/Dataquest-Guided-Project-2/tree/master/Visualizations)"
   ]
  },
  {
   "cell_type": "markdown",
   "metadata": {},
   "source": [
    "![ask_average-comments.png](Visualizations/ask_average-comments.png)"
   ]
  },
  {
   "cell_type": "markdown",
   "metadata": {},
   "source": [
    "![show_average-points.png](Visualizations/show_average-points.png)"
   ]
  },
  {
   "cell_type": "markdown",
   "metadata": {},
   "source": [
    "![other_average-comments.png](Visualizations/other_average-comments.png)"
   ]
  },
  {
   "cell_type": "markdown",
   "metadata": {},
   "source": [
    "![other_average-points.png](Visualizations/other_average-points.png)"
   ]
  },
  {
   "cell_type": "markdown",
   "metadata": {},
   "source": [
    "![ask_other_average-comments.png](Visualizations/ask_other_average-comments.png)"
   ]
  },
  {
   "cell_type": "markdown",
   "metadata": {},
   "source": [
    "![show_other_average-points.png](Visualizations/show_other_average-points.png)"
   ]
  },
  {
   "cell_type": "markdown",
   "metadata": {},
   "source": [
    "---\n",
    "\n",
    "## Conclusion\n",
    "\n",
    "---"
   ]
  },
  {
   "cell_type": "markdown",
   "metadata": {},
   "source": [
    "In this project, I analyzed ask HN posts and show HN posts to determine which type of post and time receive the most comments and points on average. I then compared this to the average comments and points on other posts. Based on the analysis, to maximize the amount of comments a post receives I would recommend the post be categorized as ask post and created between 15:00 and 16:00 (3:00 pm EST - 4:00 pm EST). To maximize the amount of points a post received I would recommend the post be uncategorized and created between 13:00 and 16:00 (1:00 pm EST - 4:00 pm EST).\n",
    "\n",
    "However, it should be noted that the data set I analyzed excluded posts without any comments. "
   ]
  }
 ],
 "metadata": {
  "kernelspec": {
   "display_name": "Python 3",
   "language": "python",
   "name": "python3"
  },
  "language_info": {
   "codemirror_mode": {
    "name": "ipython",
    "version": 3
   },
   "file_extension": ".py",
   "mimetype": "text/x-python",
   "name": "python",
   "nbconvert_exporter": "python",
   "pygments_lexer": "ipython3",
   "version": "3.7.0"
  }
 },
 "nbformat": 4,
 "nbformat_minor": 2
}
